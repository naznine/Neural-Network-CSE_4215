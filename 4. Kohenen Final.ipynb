{
 "cells": [
  {
   "cell_type": "code",
   "execution_count": 15,
   "id": "0d265c50",
   "metadata": {},
   "outputs": [
    {
     "name": "stdout",
     "output_type": "stream",
     "text": [
      "Accuracy: 53.00%\n",
      "Accuracy: 49.50%\n",
      "Accuracy: 47.67%\n"
     ]
    }
   ],
   "source": [
    "import numpy as np\n",
    "from sklearn.model_selection import train_test_split\n",
    "\n",
    "def kohonen_train(X, outputDimention, learningRate, epochs): #outputDimention=cluster, inputDimention=feature of a sample\n",
    "    inputDimention = X.shape[1]\n",
    "    weights = np.random.randn(outputDimention, inputDimention)\n",
    "    for epoch in range(epochs):\n",
    "        for x in X:\n",
    "            distances = np.sum((weights - x) ** 2, axis=1)  # Squared Euclidean distances\n",
    "            clusterIndex = np.argmin(distances)\n",
    "            '''\n",
    "             -responsible for finding the index of the best matching cluster for a given input sample 'x'\n",
    "             -(weights - x)** 2 computes the element-wise difference between the weights matrix and the input sample x.\n",
    "             -np.sum(..., axis=1) calculates the sum of squared differences \n",
    "             -np.argmin(distances) returns the index of the minimum value\n",
    "            '''\n",
    "            for i in range(outputDimention):\n",
    "                dist = np.abs(clusterIndex - i)\n",
    "                influence = np.exp(-dist / 2)\n",
    "                weights[i] += learningRate * influence * (x - weights[i])\n",
    "    return weights\n",
    "\n",
    "def kohonen_predict(X, weights):\n",
    "    y_pred = np.zeros(len(X), dtype=int)\n",
    "    for i, x in enumerate(X):\n",
    "        distances = np.sum((weights - x) ** 2, axis=1)  # Squared Euclidean distances\n",
    "        clusterIndex = np.argmin(distances)\n",
    "        y_pred[i] = clusterIndex\n",
    "    return y_pred\n",
    "\n",
    "X = np.random.randn(1000, 4)\n",
    "y = np.random.randint(2, size=1000)\n",
    "\n",
    "def find_accuracy(TEST):\n",
    "    X_train, X_test, y_train, y_test = train_test_split(X, y, test_size=TEST/100, random_state=42)\n",
    "    weights = kohonen_train(X_train, outputDimention=2, learningRate=0.1, epochs=100)\n",
    "    y_pred = kohonen_predict(X_test, weights)\n",
    "\n",
    "    # Compute the accuracy of the model\n",
    "    accuracy = np.mean(y_pred == y_test) * 100\n",
    "    print(\"Accuracy: %.2f%%\" % accuracy)\n",
    "\n",
    "find_accuracy(10)\n",
    "find_accuracy(20)\n",
    "find_accuracy(30)"
   ]
  },
  {
   "cell_type": "code",
   "execution_count": null,
   "id": "e11b472f",
   "metadata": {},
   "outputs": [],
   "source": []
  },
  {
   "cell_type": "code",
   "execution_count": null,
   "id": "fd58124d",
   "metadata": {},
   "outputs": [],
   "source": []
  }
 ],
 "metadata": {
  "kernelspec": {
   "display_name": "Python 3 (ipykernel)",
   "language": "python",
   "name": "python3"
  },
  "language_info": {
   "codemirror_mode": {
    "name": "ipython",
    "version": 3
   },
   "file_extension": ".py",
   "mimetype": "text/x-python",
   "name": "python",
   "nbconvert_exporter": "python",
   "pygments_lexer": "ipython3",
   "version": "3.9.7"
  }
 },
 "nbformat": 4,
 "nbformat_minor": 5
}
